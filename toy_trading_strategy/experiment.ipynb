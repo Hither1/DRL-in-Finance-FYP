{
 "cells": [
  {
   "cell_type": "code",
   "execution_count": 1,
   "metadata": {},
   "outputs": [
    {
     "output_type": "stream",
     "name": "stdout",
     "text": [
      "WARNING:tensorflow:\nThe TensorFlow contrib module will not be included in TensorFlow 2.0.\nFor more information, please see:\n  * https://github.com/tensorflow/community/blob/master/rfcs/20180907-contrib-sunset.md\n  * https://github.com/tensorflow/addons\n  * https://github.com/tensorflow/io (for I/O related ops)\nIf you depend on functionality not listed there, please file an issue.\n\n"
     ]
    }
   ],
   "source": [
    "import numpy as np\n",
    "import matplotlib.pyplot as plt\n",
    "import pandas as pd\n",
    "from HCA.hca_classes import hca\n",
    "\n",
    "import tensorflow as tf\n",
    "from tradingenv import StockTradingEnv\n",
    "from stable_baselines.common.vec_env import DummyVecEnv\n",
    "from stable_baselines.deepq.policies import MlpPolicy\n",
    "from stable_baselines import DQN\n",
    "\n",
    "import collections\n",
    "import itertools\n",
    "from lib import plotting"
   ]
  },
  {
   "cell_type": "code",
   "execution_count": 2,
   "metadata": {},
   "outputs": [],
   "source": [
    "tf.compat.v1.enable_eager_execution(\n",
    "    config=None, device_policy=None, execution_mode=None\n",
    ")"
   ]
  },
  {
   "cell_type": "code",
   "execution_count": 3,
   "metadata": {},
   "outputs": [
    {
     "output_type": "stream",
     "name": "stdout",
     "text": [
      "      index  Unnamed: 0        Date    Open      High       Low   Close  \\\n0      2514        2514  2008-01-02  199.27  200.2600  192.5500  194.84   \n1      2515        2515  2008-01-03  195.41  197.3900  192.6900  194.93   \n2      2516        2516  2008-01-04  191.45  193.0000  178.8900  180.05   \n3      2517        2517  2008-01-07  181.25  183.6000  170.2300  177.64   \n4      2518        2518  2008-01-08  180.14  182.4600  170.8000  171.25   \n...     ...         ...         ...     ...       ...       ...     ...   \n2736   5250        5250  2018-11-12  199.00  199.8500  193.7900  194.17   \n2737   5251        5251  2018-11-13  191.63  197.1800  191.4501  192.23   \n2738   5252        5252  2018-11-14  193.90  194.4800  185.9300  186.80   \n2739   5253        5253  2018-11-15  188.39  191.9700  186.9000  191.41   \n2740   5254        5254  2018-11-16  190.50  194.9695  189.4600  193.53   \n\n          Volume  \n0     38542100.0  \n1     30073800.0  \n2     51994000.0  \n3     74006900.0  \n4     54422000.0  \n...          ...  \n2736  51135518.0  \n2737  46882936.0  \n2738  60800957.0  \n2739  46478801.0  \n2740  36186440.0  \n\n[2741 rows x 8 columns]\n"
     ]
    }
   ],
   "source": [
    "# Set env\n",
    "df = pd.read_csv('./data/AAPL.csv')\n",
    "df.sort_values('Date')\n",
    "df_recent = df[df['Date'] >= '2008-01-01'].reset_index()\n",
    "print(df_recent)\n",
    "# env = DummyVecEnv([lambda:StockTradingEnv(df)])\n",
    "env = StockTradingEnv(df_recent)\n",
    "observation = env.reset()"
   ]
  },
  {
   "cell_type": "code",
   "execution_count": 4,
   "metadata": {},
   "outputs": [],
   "source": [
    "# 2. state-conditional\n",
    "\n",
    "\n",
    "#global_step = tf.Variable(0, name=\"global_step\", trainable=False)\n",
    "\n",
    "#with tf.Session() as sess:\n",
    "    #sess.run(tf.initialize_all_variables())\n",
    "    # Note, due to randomness in the policy the number of episodes you need to learn a good\n",
    "    # policy may vary. ~2000-5000 seemed to work well for me.\n",
    "stats = hca(env)\n",
    "    "
   ]
  },
  {
   "cell_type": "code",
   "execution_count": null,
   "metadata": {},
   "outputs": [],
   "source": [
    "# Based on the results from REINFORCE, \n",
    "# hardcode a vector of the possible return states of \n",
    "ret = 0\n",
    "return_bins = []\n",
    "while(ret < 8000):\n",
    "    return_bins.append(ret)\n",
    "    ret += 500\n",
    "# return-conditional\n",
    "agent = ReturnHCA(n_s, n_a, return_bins)"
   ]
  },
  {
   "cell_type": "code",
   "execution_count": 5,
   "metadata": {},
   "outputs": [
    {
     "data": {
      "text/plain": [
       "True"
      ]
     },
     "execution_count": 5,
     "metadata": {},
     "output_type": "execute_result"
    }
   ],
   "source": []
  },
  {
   "cell_type": "code",
   "execution_count": 2,
   "metadata": {},
   "outputs": [
    {
     "output_type": "stream",
     "name": "stdout",
     "text": [
      "[0. 0. 0.]\n"
     ]
    }
   ],
   "source": [
    "arr = np.zeros((3,4,3))\n",
    "\n",
    "index = [0, 1, 0]\n",
    "\n",
    "res = get_action_probabilities(index, arr)\n",
    "print(res)"
   ]
  },
  {
   "cell_type": "code",
   "execution_count": null,
   "metadata": {},
   "outputs": [],
   "source": []
  }
 ],
 "metadata": {
  "kernelspec": {
   "name": "python37664bit58b2370e7be04459b67f00059591cb8d",
   "display_name": "Python 3.7.6 64-bit"
  },
  "language_info": {
   "codemirror_mode": {
    "name": "ipython",
    "version": 3
   },
   "file_extension": ".py",
   "mimetype": "text/x-python",
   "name": "python",
   "nbconvert_exporter": "python",
   "pygments_lexer": "ipython3",
   "version": "3.7.6-final"
  }
 },
 "nbformat": 4,
 "nbformat_minor": 2
}